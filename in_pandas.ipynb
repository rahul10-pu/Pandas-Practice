{
  "nbformat": 4,
  "nbformat_minor": 0,
  "metadata": {
    "colab": {
      "name": "in_pandas.ipynb",
      "version": "0.3.2",
      "provenance": [],
      "collapsed_sections": [],
      "include_colab_link": true
    },
    "kernelspec": {
      "name": "python3",
      "display_name": "Python 3"
    }
  },
  "cells": [
    {
      "cell_type": "markdown",
      "metadata": {
        "id": "view-in-github",
        "colab_type": "text"
      },
      "source": [
        "<a href=\"https://colab.research.google.com/github/rahul10-pu/Pandas-Practice/blob/master/in_pandas.ipynb\" target=\"_parent\"><img src=\"https://colab.research.google.com/assets/colab-badge.svg\" alt=\"Open In Colab\"/></a>"
      ]
    },
    {
      "metadata": {
        "id": "1ydJNqaYsfAF",
        "colab_type": "text"
      },
      "cell_type": "markdown",
      "source": [
        "simplest dataframe can be created in various ways as illustrated below:"
      ]
    },
    {
      "metadata": {
        "id": "UY2o3i_lsiLX",
        "colab_type": "code",
        "colab": {}
      },
      "cell_type": "code",
      "source": [
        "import pandas as pd\n",
        "# 1. Using list of dictionary\n",
        "lst = [{\"C1\": 1, \"C2\": 2},\n",
        "        {\"C1\": 5, \"C2\": 10, \"C3\": 20}]\n",
        "# Observe NaN       \n",
        "print(pd.DataFrame(lst, index = [\"R1\", \"R2\"]))\n",
        "#     C1  C2    C3\n",
        "# R1   1   2   NaN\n",
        "# R2   5  10  20.0\n",
        "# 2. Using dictionary\n",
        "dc = {\"C1\": [\"1\", \"3\"],\n",
        "        \"C2\": [\"2\",\"4\"]}\n",
        "print( pd.DataFrame(dc, index = [\"R1\", \"R2\"]) )\n",
        "#    C1 C2\n",
        "# R1  1  2\n",
        "# R2  3  4\n",
        "# 3. Using list\n",
        "lst = [[52,32],[45,85]]\n",
        "print(pd.DataFrame(lst, index = list('pq'), columns = list('ab')))\n",
        "#     a   b\n",
        "# p  52  32\n",
        "# q  45  85"
      ],
      "execution_count": 0,
      "outputs": []
    },
    {
      "metadata": {
        "id": "7Bc5KMa0stLz",
        "colab_type": "text"
      },
      "cell_type": "markdown",
      "source": [
        "We can also have a heterogeneous dataframe in which different columns have different datatypes:"
      ]
    },
    {
      "metadata": {
        "id": "cwpbmx8tsvgf",
        "colab_type": "code",
        "colab": {}
      },
      "cell_type": "code",
      "source": [
        "df = pd.DataFrame({'A': [10., 20.],\n",
        "                    'B': \"text\",\n",
        "                    'C': [2,60],\n",
        "                    'D': 3+9j})\n",
        "print(df)\n",
        "#       A     B   C       D\n",
        "# 0  10.0  text   2  (3+9j)\n",
        "# 1  20.0  text  60  (3+9j)\n",
        "print(df.dtypes)\n",
        "# A       float64\n",
        "# B        object\n",
        "# C         int64\n",
        "# D    complex128\n",
        "# dtype: object "
      ],
      "execution_count": 0,
      "outputs": []
    },
    {
      "metadata": {
        "id": "hQBW2u9Mszl0",
        "colab_type": "text"
      },
      "cell_type": "markdown",
      "source": [
        "To reveal complete information about a given dataframe we use DataFrameName.info() command:"
      ]
    },
    {
      "metadata": {
        "id": "ASE1fzO1s0QC",
        "colab_type": "code",
        "colab": {}
      },
      "cell_type": "code",
      "source": [
        "print(df.info())\n",
        "# < class 'pandas.core.frame.DataFrame' >\n",
        "# RangeIndex: 2 entries, 0 to 1\n",
        "# Data columns (total 4 columns):\n",
        "# A    2 non-null float64\n",
        "# B    2 non-null object\n",
        "# C    2 non-null int64\n",
        "# D    2 non-null complex128\n",
        "# dtypes: complex128(1), float64(1), int64(1), object(1)\n",
        "# memory usage: 160.0+ bytes "
      ],
      "execution_count": 0,
      "outputs": []
    },
    {
      "metadata": {
        "id": "8kTGnFmOs6LJ",
        "colab_type": "text"
      },
      "cell_type": "markdown",
      "source": [
        "we retrieve values of dataframe without labels and also try to retrieve the names of rows and columns individually:"
      ]
    },
    {
      "metadata": {
        "id": "mxOUJcQYs8Sf",
        "colab_type": "code",
        "colab": {}
      },
      "cell_type": "code",
      "source": [
        "print((df.index))   #index of rows\n",
        "# RangeIndex(start=0, stop=2, step=1)\n",
        "print(df.columns)   # index of columns\n",
        "# Index(['A', 'B', 'C', 'D'], dtype='object')\n",
        "print(df.values)    # display values of df\n",
        "# [[10.0 'text' 2 (3+9j)]\n",
        "#  [20.0 'text' 60 (3+9j)]]"
      ],
      "execution_count": 0,
      "outputs": []
    },
    {
      "metadata": {
        "id": "Ie0EWEcus_nC",
        "colab_type": "text"
      },
      "cell_type": "markdown",
      "source": [
        "Exercises:"
      ]
    },
    {
      "metadata": {
        "id": "JoUeg6-0tB7S",
        "colab_type": "code",
        "colab": {
          "base_uri": "https://localhost:8080/",
          "height": 110
        },
        "outputId": "9d5c2552-b01e-4cfe-929f-fd2147c54318"
      },
      "cell_type": "code",
      "source": [
        "#Given below is a DataFrame df:\n",
        "import pandas as pd\n",
        "df = pd.DataFrame([[0.23,'f1'],[5.36,'f2']],\n",
        "                  index = list('pq'),\n",
        "                    columns = list('ab'))\n",
        "\n",
        "'''Do the following:\n",
        "\n",
        "Change the column name from ' a' to ' A'.\n",
        "\n",
        "Add a new column ' c' filled with random values.\n",
        "\n",
        "Change the datatype of column ' A' values to complex.\n",
        "\n",
        "Display rows whose any of the element matches with any element of the given list:\n",
        "lst = ['f30','f50','f2','f0'] '''\n",
        "df.head()\n",
        "#df.rename(columns={'oldName1': 'newName1', 'oldName2': 'newName2'}, inplace=True)\n",
        "df.rename(columns={'a': 'A'}, inplace=True)\n",
        "df.head()\n",
        "\n",
        "import numpy as np\n",
        "df['c']=np.random.rand()\n",
        "df.head()\n",
        "df = df.astype({\"A\":complex})\n",
        "\n",
        "\n",
        "lst = ['f30','f50','f2','f0']\n",
        "print(df.loc[df['b'].isin(lst)])\n",
        "df[df['b'].isin(lst)]"
      ],
      "execution_count": 18,
      "outputs": [
        {
          "output_type": "stream",
          "text": [
            "           A   b         c\n",
            "q  (5.36+0j)  f2  0.165194\n"
          ],
          "name": "stdout"
        },
        {
          "output_type": "execute_result",
          "data": {
            "text/html": [
              "<div>\n",
              "<style scoped>\n",
              "    .dataframe tbody tr th:only-of-type {\n",
              "        vertical-align: middle;\n",
              "    }\n",
              "\n",
              "    .dataframe tbody tr th {\n",
              "        vertical-align: top;\n",
              "    }\n",
              "\n",
              "    .dataframe thead th {\n",
              "        text-align: right;\n",
              "    }\n",
              "</style>\n",
              "<table border=\"1\" class=\"dataframe\">\n",
              "  <thead>\n",
              "    <tr style=\"text-align: right;\">\n",
              "      <th></th>\n",
              "      <th>A</th>\n",
              "      <th>b</th>\n",
              "      <th>c</th>\n",
              "    </tr>\n",
              "  </thead>\n",
              "  <tbody>\n",
              "    <tr>\n",
              "      <th>q</th>\n",
              "      <td>(5.36+0j)</td>\n",
              "      <td>f2</td>\n",
              "      <td>0.165194</td>\n",
              "    </tr>\n",
              "  </tbody>\n",
              "</table>\n",
              "</div>"
            ],
            "text/plain": [
              "           A   b         c\n",
              "q  (5.36+0j)  f2  0.165194"
            ]
          },
          "metadata": {
            "tags": []
          },
          "execution_count": 18
        }
      ]
    },
    {
      "metadata": {
        "id": "jgGX0LNVw_kY",
        "colab_type": "text"
      },
      "cell_type": "markdown",
      "source": [
        "Quizz"
      ]
    },
    {
      "metadata": {
        "id": "arPd6aFUxBdS",
        "colab_type": "code",
        "colab": {
          "base_uri": "https://localhost:8080/",
          "height": 174
        },
        "outputId": "615f975f-9339-45a4-c5c0-4c41ee3f0961"
      },
      "cell_type": "code",
      "source": [
        "import pandas as pd\n",
        "\n",
        "df = pd.DataFrame([[54.2,'a'],[658,'d']],\n",
        "                  index = list('pq'))\n",
        "print(df.head())\n",
        "df.columns = df.index\n",
        "print(df.columns.values)\n",
        "df.head()"
      ],
      "execution_count": 21,
      "outputs": [
        {
          "output_type": "stream",
          "text": [
            "       0  1\n",
            "p   54.2  a\n",
            "q  658.0  d\n",
            "['p' 'q']\n"
          ],
          "name": "stdout"
        },
        {
          "output_type": "execute_result",
          "data": {
            "text/html": [
              "<div>\n",
              "<style scoped>\n",
              "    .dataframe tbody tr th:only-of-type {\n",
              "        vertical-align: middle;\n",
              "    }\n",
              "\n",
              "    .dataframe tbody tr th {\n",
              "        vertical-align: top;\n",
              "    }\n",
              "\n",
              "    .dataframe thead th {\n",
              "        text-align: right;\n",
              "    }\n",
              "</style>\n",
              "<table border=\"1\" class=\"dataframe\">\n",
              "  <thead>\n",
              "    <tr style=\"text-align: right;\">\n",
              "      <th></th>\n",
              "      <th>p</th>\n",
              "      <th>q</th>\n",
              "    </tr>\n",
              "  </thead>\n",
              "  <tbody>\n",
              "    <tr>\n",
              "      <th>p</th>\n",
              "      <td>54.2</td>\n",
              "      <td>a</td>\n",
              "    </tr>\n",
              "    <tr>\n",
              "      <th>q</th>\n",
              "      <td>658.0</td>\n",
              "      <td>d</td>\n",
              "    </tr>\n",
              "  </tbody>\n",
              "</table>\n",
              "</div>"
            ],
            "text/plain": [
              "       p  q\n",
              "p   54.2  a\n",
              "q  658.0  d"
            ]
          },
          "metadata": {
            "tags": []
          },
          "execution_count": 21
        }
      ]
    },
    {
      "metadata": {
        "id": "AgH-XjKOxXDq",
        "colab_type": "text"
      },
      "cell_type": "markdown",
      "source": [
        "Pandas can read and write a dataset in various formats like .xlsx, .csv, .html etc\n",
        "Pandas automatically take values for the index as left extreme integers 0, 1, 2, 3, 4, ... and column as the topmost row because we have not explicitly assigned header while importing.\n",
        "\n"
      ]
    },
    {
      "metadata": {
        "id": "led3LOoexXwS",
        "colab_type": "code",
        "colab": {
          "base_uri": "https://localhost:8080/",
          "height": 67
        },
        "outputId": "af526d52-2779-4eb6-faa6-6da8339e2b21"
      },
      "cell_type": "code",
      "source": [
        "import pandas as pd\n",
        "df = pd.DataFrame([[11, 202],\n",
        "                    [33, 44]],\n",
        "                    index = list('AB'),\n",
        "                    columns = list('CD'))\n",
        "''' Writing to excel file '''\n",
        "df.to_excel('test_file.xlsx', sheet_name = 'Sheet1')\n",
        "''' Reading from excel file '''\n",
        "print(pd.read_excel('test_file.xlsx', 'Sheet1')) "
      ],
      "execution_count": 22,
      "outputs": [
        {
          "output_type": "stream",
          "text": [
            "    C    D\n",
            "A  11  202\n",
            "B  33   44\n"
          ],
          "name": "stdout"
        }
      ]
    },
    {
      "metadata": {
        "id": "_XZ_Ligux0Qv",
        "colab_type": "text"
      },
      "cell_type": "markdown",
      "source": [
        "Exercise-2"
      ]
    },
    {
      "metadata": {
        "id": "eurTr4Rex2WQ",
        "colab_type": "code",
        "colab": {}
      },
      "cell_type": "code",
      "source": [
        "import pandas as pd\n",
        "df = pd.DataFrame([[18,10,5,11,-2],\n",
        "                    [2,-2,9,-11,3],\n",
        "                    [-4,6,-19,2,1],\n",
        "                    [3,-14,1,-2,8],\n",
        "                    [-2,2,4,6,13]],\n",
        "                  index = list('pqrst'),\n",
        "                    columns = list('abcde'))\n",
        "#Filter all the two consecutive columns whose sum of individual elements is even. Finally, save these columns into a new dataframe named new_df and extract the dataframe in an excel file named file_df.xlsx under Sheet 1.\n",
        "\n",
        "#Copy new_df dataframe into a new dataframe df_temp. Append a new column named as 'm' to the df_temp dataframe which defines the multiplication of each element in one row. Save this dataframe in Sheet 2 of file_df excel file."
      ],
      "execution_count": 0,
      "outputs": []
    },
    {
      "metadata": {
        "id": "KqSpng2M1ST5",
        "colab_type": "text"
      },
      "cell_type": "markdown",
      "source": [
        "# **Selection Method**"
      ]
    },
    {
      "metadata": {
        "id": "5IGerUOi1ZFe",
        "colab_type": "text"
      },
      "cell_type": "markdown",
      "source": [
        " **1. Selection by Position**\n",
        "The .loc attribute is the governing parameter to select data by a label. Slicing is performed based on the label of the index."
      ]
    },
    {
      "metadata": {
        "id": "GU0fDzFy1lye",
        "colab_type": "code",
        "colab": {}
      },
      "cell_type": "code",
      "source": [
        "import pandas as pd\n",
        "df = pd.DataFrame([[15, 12],\n",
        "                    [33, 54],\n",
        "                    [10, 32]], \n",
        "                    index = list('ABC'),\n",
        "                    columns = list('DE'))\n",
        "print(df)\n",
        "#     D   E\n",
        "# A  15  12\n",
        "# B  33  54\n",
        "# C  10  32\n",
        "print(df.loc[['A','C'],:])\n",
        "#     D   E\n",
        "# A  15  12\n",
        "# C  10  32\n",
        "print(df.loc[:,'E'])\n",
        "# A    12\n",
        "# B    54\n",
        "# C    32\n",
        "# Name: E, dtype: int64\n",
        "print(df.loc['B', 'D'])\n",
        "# 33 "
      ],
      "execution_count": 0,
      "outputs": []
    },
    {
      "metadata": {
        "id": "lHVHFXd-1row",
        "colab_type": "text"
      },
      "cell_type": "markdown",
      "source": [
        "**2. Selection by Position**\n",
        "Here, the .iloc attribute is the governing parameter to select data and slicing is performed based on the position."
      ]
    },
    {
      "metadata": {
        "id": "3fbZY2jp1tE2",
        "colab_type": "code",
        "colab": {}
      },
      "cell_type": "code",
      "source": [
        "import pandas as pd\n",
        "df = pd.DataFrame([[15, 12],\n",
        "                    [33, 54],\n",
        "                    [10, 32]])\n",
        "print(df)\n",
        "#     0   1\n",
        "# 0  15  12\n",
        "# 1  33  54\n",
        "# 2  10  32\n",
        "print(df.iloc[0:2,:]) \n",
        "#     0   1\n",
        "# 0  15  12\n",
        "# 1  33  54\n",
        "print(df.iloc[:,0:1])\n",
        "#     0\n",
        "# 0  15\n",
        "# 1  33\n",
        "# 2  10\n",
        "print(df.iloc[:,:])\n",
        "#     0   1\n",
        "# 0  15  12\n",
        "# 1  33  54\n",
        "# 2  10  32 "
      ],
      "execution_count": 0,
      "outputs": []
    },
    {
      "metadata": {
        "id": "q42yM8V71x2A",
        "colab_type": "text"
      },
      "cell_type": "markdown",
      "source": [
        "3. Selection Using Regular Expression"
      ]
    },
    {
      "metadata": {
        "id": "sOC6ISdt1y3d",
        "colab_type": "code",
        "colab": {}
      },
      "cell_type": "code",
      "source": [
        "import pandas as pd\n",
        "df = pd.DataFrame([[15, 12],\n",
        "                    [33, 54],\n",
        "                    [10, 32]], \n",
        "                    index = ['one','two','three'],\n",
        "                    columns = ['col1', 'col2'])\n",
        "print(df)\n",
        "#        col1  col2\n",
        "# one      15    12\n",
        "# two      33    54\n",
        "# three    10    32\n",
        "print(df.filter(regex = 'e$', axis = 0))      # row name ending with 'e'\n",
        "#        col1  col2\n",
        "# one      15    12\n",
        "# three    10    32\n",
        "print(df.filter(regex = '^c', axis = 1))      # column name starting with 'c'\n",
        "#        col1  col2\n",
        "# one      15    12\n",
        "# two      33    54\n",
        "# three    10    32 "
      ],
      "execution_count": 0,
      "outputs": []
    },
    {
      "metadata": {
        "id": "vqx5_l-J127-",
        "colab_type": "text"
      },
      "cell_type": "markdown",
      "source": [
        "**4. Boolean Indexing**"
      ]
    },
    {
      "metadata": {
        "id": "haHdjP3915XX",
        "colab_type": "code",
        "colab": {}
      },
      "cell_type": "code",
      "source": [
        "import pandas as pd\n",
        "df = pd.DataFrame([[15, 12],\n",
        "                    [33, 54],\n",
        "                    [10, 32]])\n",
        "print(df[df >= 15])\n",
        "#       0     1\n",
        "# 0  15.0   NaN\n",
        "# 1  33.0  54.0\n",
        "# 2   NaN  32.0 "
      ],
      "execution_count": 0,
      "outputs": []
    }
  ]
}