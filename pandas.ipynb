{
  "nbformat": 4,
  "nbformat_minor": 0,
  "metadata": {
    "colab": {
      "name": "pandas.ipynb",
      "version": "0.3.2",
      "provenance": [],
      "include_colab_link": true
    },
    "kernelspec": {
      "name": "python3",
      "display_name": "Python 3"
    }
  },
  "cells": [
    {
      "cell_type": "markdown",
      "metadata": {
        "id": "view-in-github",
        "colab_type": "text"
      },
      "source": [
        "<a href=\"https://colab.research.google.com/github/rahul10-pu/Pandas-Practice/blob/master/pandas.ipynb\" target=\"_parent\"><img src=\"https://colab.research.google.com/assets/colab-badge.svg\" alt=\"Open In Colab\"/></a>"
      ]
    },
    {
      "metadata": {
        "id": "52uSj113c_vP",
        "colab_type": "code",
        "outputId": "82be1f64-b05c-4046-b11e-879385891a73",
        "colab": {
          "base_uri": "https://localhost:8080/",
          "height": 119
        }
      },
      "cell_type": "code",
      "source": [
        "dict = {\"\": [\"Brazil\", \"Russia\", \"India\", \"China\", \"South Africa\"],\n",
        "       \"capital\": [\"Brasilia\", \"Moscow\", \"New Dehli\", \"Beijing\", \"Pretoria\"],\n",
        "       \"area\": [8.516, 17.10, 3.286, 9.597, 1.221],\n",
        "       \"population\": [200.4, 143.5, 1252, 1357, 52.98] }\n",
        "\n",
        "import pandas as pd\n",
        "brics = pd.DataFrame(dict)\n",
        "print(brics)"
      ],
      "execution_count": 0,
      "outputs": [
        {
          "output_type": "stream",
          "text": [
            "                   area    capital  population\n",
            "0        Brazil   8.516   Brasilia      200.40\n",
            "1        Russia  17.100     Moscow      143.50\n",
            "2         India   3.286  New Dehli     1252.00\n",
            "3         China   9.597    Beijing     1357.00\n",
            "4  South Africa   1.221   Pretoria       52.98\n"
          ],
          "name": "stdout"
        }
      ]
    },
    {
      "metadata": {
        "id": "0K2ltYm3gT2q",
        "colab_type": "code",
        "outputId": "5bb59722-e82d-40e0-9fd5-6ec7121a8955",
        "colab": {
          "base_uri": "https://localhost:8080/",
          "height": 119
        }
      },
      "cell_type": "code",
      "source": [
        "brics.index = [\"BR\", \"RU\", \"IN\", \"CH\", \"SA\"]\n",
        "\n",
        "# Print out brics with new index values\n",
        "print(brics)"
      ],
      "execution_count": 0,
      "outputs": [
        {
          "output_type": "stream",
          "text": [
            "                    area    capital  population\n",
            "BR        Brazil   8.516   Brasilia      200.40\n",
            "RU        Russia  17.100     Moscow      143.50\n",
            "IN         India   3.286  New Dehli     1252.00\n",
            "CH         China   9.597    Beijing     1357.00\n",
            "SA  South Africa   1.221   Pretoria       52.98\n"
          ],
          "name": "stdout"
        }
      ]
    },
    {
      "metadata": {
        "id": "_2_pXaSOhCAS",
        "colab_type": "code",
        "outputId": "08d86b77-e686-4b5a-9775-729f0df1b457",
        "colab": {
          "base_uri": "https://localhost:8080/",
          "height": 119
        }
      },
      "cell_type": "code",
      "source": [
        "#single bracket with output a Pandas Series\n",
        "print(brics[\"capital\"])"
      ],
      "execution_count": 0,
      "outputs": [
        {
          "output_type": "stream",
          "text": [
            "      capital\n",
            "BR   Brasilia\n",
            "RU     Moscow\n",
            "IN  New Dehli\n",
            "CH    Beijing\n",
            "SA   Pretoria\n"
          ],
          "name": "stdout"
        }
      ]
    },
    {
      "metadata": {
        "id": "zXifcrpShkp3",
        "colab_type": "code",
        "outputId": "cc33208b-1329-48b3-c6c9-6303bfd6ddd2",
        "colab": {
          "base_uri": "https://localhost:8080/",
          "height": 119
        }
      },
      "cell_type": "code",
      "source": [
        "#a double bracket will output a Pandas DataFrame.\n",
        "print(brics[[\"capital\",\"area\"]])"
      ],
      "execution_count": 0,
      "outputs": [
        {
          "output_type": "stream",
          "text": [
            "      capital    area\n",
            "BR   Brasilia   8.516\n",
            "RU     Moscow  17.100\n",
            "IN  New Dehli   3.286\n",
            "CH    Beijing   9.597\n",
            "SA   Pretoria   1.221\n"
          ],
          "name": "stdout"
        }
      ]
    },
    {
      "metadata": {
        "id": "YhiwjbBfiJmV",
        "colab_type": "code",
        "outputId": "7c77031e-b9ce-4011-ee7a-8dbd3b56ee8a",
        "colab": {
          "base_uri": "https://localhost:8080/",
          "height": 187
        }
      },
      "cell_type": "code",
      "source": [
        "#Square brackets can also be used to access observations (rows) from a DataFrame.\n",
        "print(brics[1:3])#return dataFrame\n",
        "\n",
        "#loc is label-based---------- means that you have to specify rows and columns based on their row and column labels\n",
        "# print(brics[[\"RU\",\"IN\"]])<----------error?\n",
        "print(brics.loc[[\"RU\"]])\n",
        "\n",
        "#iloc is integer index based, so you have to specify rows and columns by their integer index\n",
        "print(brics.iloc[1])\n"
      ],
      "execution_count": 0,
      "outputs": [
        {
          "output_type": "stream",
          "text": [
            "              area    capital  population\n",
            "RU  Russia  17.100     Moscow       143.5\n",
            "IN   India   3.286  New Dehli      1252.0\n",
            "            area capital  population\n",
            "RU  Russia  17.1  Moscow       143.5\n",
            "              Russia\n",
            "area            17.1\n",
            "capital       Moscow\n",
            "population     143.5\n",
            "Name: RU, dtype: object\n"
          ],
          "name": "stdout"
        }
      ]
    }
  ]
}